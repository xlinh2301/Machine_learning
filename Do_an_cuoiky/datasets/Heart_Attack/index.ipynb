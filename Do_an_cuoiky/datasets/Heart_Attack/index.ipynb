{
 "cells": [
  {
   "cell_type": "code",
   "execution_count": 3,
   "metadata": {},
   "outputs": [],
   "source": [
    "import pandas as pd\n",
    "import numpy as np\n",
    "import matplotlib.pyplot as plt\n",
    "import seaborn as sns\n",
    "from sklearn.metrics import accuracy_score\n"
   ]
  },
  {
   "cell_type": "code",
   "execution_count": 4,
   "metadata": {},
   "outputs": [
    {
     "data": {
      "text/html": [
       "<div>\n",
       "<style scoped>\n",
       "    .dataframe tbody tr th:only-of-type {\n",
       "        vertical-align: middle;\n",
       "    }\n",
       "\n",
       "    .dataframe tbody tr th {\n",
       "        vertical-align: top;\n",
       "    }\n",
       "\n",
       "    .dataframe thead th {\n",
       "        text-align: right;\n",
       "    }\n",
       "</style>\n",
       "<table border=\"1\" class=\"dataframe\">\n",
       "  <thead>\n",
       "    <tr style=\"text-align: right;\">\n",
       "      <th></th>\n",
       "      <th>age</th>\n",
       "      <th>gender</th>\n",
       "      <th>impluse</th>\n",
       "      <th>pressurehight</th>\n",
       "      <th>pressurelow</th>\n",
       "      <th>glucose</th>\n",
       "      <th>kcm</th>\n",
       "      <th>troponin</th>\n",
       "      <th>class</th>\n",
       "    </tr>\n",
       "  </thead>\n",
       "  <tbody>\n",
       "    <tr>\n",
       "      <th>0</th>\n",
       "      <td>64</td>\n",
       "      <td>1</td>\n",
       "      <td>66</td>\n",
       "      <td>160</td>\n",
       "      <td>83</td>\n",
       "      <td>160.0</td>\n",
       "      <td>1.80</td>\n",
       "      <td>0.012</td>\n",
       "      <td>negative</td>\n",
       "    </tr>\n",
       "    <tr>\n",
       "      <th>1</th>\n",
       "      <td>21</td>\n",
       "      <td>1</td>\n",
       "      <td>94</td>\n",
       "      <td>98</td>\n",
       "      <td>46</td>\n",
       "      <td>296.0</td>\n",
       "      <td>6.75</td>\n",
       "      <td>1.060</td>\n",
       "      <td>positive</td>\n",
       "    </tr>\n",
       "    <tr>\n",
       "      <th>2</th>\n",
       "      <td>55</td>\n",
       "      <td>1</td>\n",
       "      <td>64</td>\n",
       "      <td>160</td>\n",
       "      <td>77</td>\n",
       "      <td>270.0</td>\n",
       "      <td>1.99</td>\n",
       "      <td>0.003</td>\n",
       "      <td>negative</td>\n",
       "    </tr>\n",
       "    <tr>\n",
       "      <th>3</th>\n",
       "      <td>64</td>\n",
       "      <td>1</td>\n",
       "      <td>70</td>\n",
       "      <td>120</td>\n",
       "      <td>55</td>\n",
       "      <td>270.0</td>\n",
       "      <td>13.87</td>\n",
       "      <td>0.122</td>\n",
       "      <td>positive</td>\n",
       "    </tr>\n",
       "    <tr>\n",
       "      <th>4</th>\n",
       "      <td>55</td>\n",
       "      <td>1</td>\n",
       "      <td>64</td>\n",
       "      <td>112</td>\n",
       "      <td>65</td>\n",
       "      <td>300.0</td>\n",
       "      <td>1.08</td>\n",
       "      <td>0.003</td>\n",
       "      <td>negative</td>\n",
       "    </tr>\n",
       "  </tbody>\n",
       "</table>\n",
       "</div>"
      ],
      "text/plain": [
       "   age  gender  impluse  pressurehight  pressurelow  glucose    kcm  troponin  \\\n",
       "0   64       1       66            160           83    160.0   1.80     0.012   \n",
       "1   21       1       94             98           46    296.0   6.75     1.060   \n",
       "2   55       1       64            160           77    270.0   1.99     0.003   \n",
       "3   64       1       70            120           55    270.0  13.87     0.122   \n",
       "4   55       1       64            112           65    300.0   1.08     0.003   \n",
       "\n",
       "      class  \n",
       "0  negative  \n",
       "1  positive  \n",
       "2  negative  \n",
       "3  positive  \n",
       "4  negative  "
      ]
     },
     "execution_count": 4,
     "metadata": {},
     "output_type": "execute_result"
    }
   ],
   "source": [
    "df = pd.read_csv('E:\\\\CODE\\\\python\\\\Machine_learning\\\\Do_an_cuoiky\\\\datasets\\\\Heart_Attack\\\\Heart Attack.csv')\n",
    "# df = pd.read_csv('E:\\\\CODE\\\\python\\\\Machine_learning\\\\decision_tree\\\\heart_disease\\\\heart\\\\heart.csv')\n",
    "df.head()"
   ]
  },
  {
   "cell_type": "code",
   "execution_count": 5,
   "metadata": {},
   "outputs": [
    {
     "data": {
      "text/plain": [
       "(1319, 9)"
      ]
     },
     "execution_count": 5,
     "metadata": {},
     "output_type": "execute_result"
    }
   ],
   "source": [
    "df.shape"
   ]
  },
  {
   "cell_type": "code",
   "execution_count": 6,
   "metadata": {},
   "outputs": [
    {
     "data": {
      "text/plain": [
       "array([0, 1, 0, ..., 1, 1, 1])"
      ]
     },
     "execution_count": 6,
     "metadata": {},
     "output_type": "execute_result"
    }
   ],
   "source": [
    "from sklearn.preprocessing import LabelEncoder\n",
    " \n",
    "# Creating a instance of label Encoder.\n",
    "le = LabelEncoder()\n",
    " \n",
    "# Using .fit_transform function to fit label\n",
    "# encoder and return encoded label\n",
    "label = le.fit_transform(df['class'])\n",
    " \n",
    "label"
   ]
  },
  {
   "cell_type": "code",
   "execution_count": 7,
   "metadata": {},
   "outputs": [
    {
     "data": {
      "text/html": [
       "<div>\n",
       "<style scoped>\n",
       "    .dataframe tbody tr th:only-of-type {\n",
       "        vertical-align: middle;\n",
       "    }\n",
       "\n",
       "    .dataframe tbody tr th {\n",
       "        vertical-align: top;\n",
       "    }\n",
       "\n",
       "    .dataframe thead th {\n",
       "        text-align: right;\n",
       "    }\n",
       "</style>\n",
       "<table border=\"1\" class=\"dataframe\">\n",
       "  <thead>\n",
       "    <tr style=\"text-align: right;\">\n",
       "      <th></th>\n",
       "      <th>age</th>\n",
       "      <th>gender</th>\n",
       "      <th>impluse</th>\n",
       "      <th>pressurehight</th>\n",
       "      <th>pressurelow</th>\n",
       "      <th>glucose</th>\n",
       "      <th>kcm</th>\n",
       "      <th>troponin</th>\n",
       "      <th>class</th>\n",
       "    </tr>\n",
       "  </thead>\n",
       "  <tbody>\n",
       "    <tr>\n",
       "      <th>0</th>\n",
       "      <td>64</td>\n",
       "      <td>1</td>\n",
       "      <td>66</td>\n",
       "      <td>160</td>\n",
       "      <td>83</td>\n",
       "      <td>160.0</td>\n",
       "      <td>1.80</td>\n",
       "      <td>0.012</td>\n",
       "      <td>0</td>\n",
       "    </tr>\n",
       "    <tr>\n",
       "      <th>1</th>\n",
       "      <td>21</td>\n",
       "      <td>1</td>\n",
       "      <td>94</td>\n",
       "      <td>98</td>\n",
       "      <td>46</td>\n",
       "      <td>296.0</td>\n",
       "      <td>6.75</td>\n",
       "      <td>1.060</td>\n",
       "      <td>1</td>\n",
       "    </tr>\n",
       "    <tr>\n",
       "      <th>2</th>\n",
       "      <td>55</td>\n",
       "      <td>1</td>\n",
       "      <td>64</td>\n",
       "      <td>160</td>\n",
       "      <td>77</td>\n",
       "      <td>270.0</td>\n",
       "      <td>1.99</td>\n",
       "      <td>0.003</td>\n",
       "      <td>0</td>\n",
       "    </tr>\n",
       "    <tr>\n",
       "      <th>3</th>\n",
       "      <td>64</td>\n",
       "      <td>1</td>\n",
       "      <td>70</td>\n",
       "      <td>120</td>\n",
       "      <td>55</td>\n",
       "      <td>270.0</td>\n",
       "      <td>13.87</td>\n",
       "      <td>0.122</td>\n",
       "      <td>1</td>\n",
       "    </tr>\n",
       "    <tr>\n",
       "      <th>4</th>\n",
       "      <td>55</td>\n",
       "      <td>1</td>\n",
       "      <td>64</td>\n",
       "      <td>112</td>\n",
       "      <td>65</td>\n",
       "      <td>300.0</td>\n",
       "      <td>1.08</td>\n",
       "      <td>0.003</td>\n",
       "      <td>0</td>\n",
       "    </tr>\n",
       "    <tr>\n",
       "      <th>...</th>\n",
       "      <td>...</td>\n",
       "      <td>...</td>\n",
       "      <td>...</td>\n",
       "      <td>...</td>\n",
       "      <td>...</td>\n",
       "      <td>...</td>\n",
       "      <td>...</td>\n",
       "      <td>...</td>\n",
       "      <td>...</td>\n",
       "    </tr>\n",
       "    <tr>\n",
       "      <th>1314</th>\n",
       "      <td>44</td>\n",
       "      <td>1</td>\n",
       "      <td>94</td>\n",
       "      <td>122</td>\n",
       "      <td>67</td>\n",
       "      <td>204.0</td>\n",
       "      <td>1.63</td>\n",
       "      <td>0.006</td>\n",
       "      <td>0</td>\n",
       "    </tr>\n",
       "    <tr>\n",
       "      <th>1315</th>\n",
       "      <td>66</td>\n",
       "      <td>1</td>\n",
       "      <td>84</td>\n",
       "      <td>125</td>\n",
       "      <td>55</td>\n",
       "      <td>149.0</td>\n",
       "      <td>1.33</td>\n",
       "      <td>0.172</td>\n",
       "      <td>1</td>\n",
       "    </tr>\n",
       "    <tr>\n",
       "      <th>1316</th>\n",
       "      <td>45</td>\n",
       "      <td>1</td>\n",
       "      <td>85</td>\n",
       "      <td>168</td>\n",
       "      <td>104</td>\n",
       "      <td>96.0</td>\n",
       "      <td>1.24</td>\n",
       "      <td>4.250</td>\n",
       "      <td>1</td>\n",
       "    </tr>\n",
       "    <tr>\n",
       "      <th>1317</th>\n",
       "      <td>54</td>\n",
       "      <td>1</td>\n",
       "      <td>58</td>\n",
       "      <td>117</td>\n",
       "      <td>68</td>\n",
       "      <td>443.0</td>\n",
       "      <td>5.80</td>\n",
       "      <td>0.359</td>\n",
       "      <td>1</td>\n",
       "    </tr>\n",
       "    <tr>\n",
       "      <th>1318</th>\n",
       "      <td>51</td>\n",
       "      <td>1</td>\n",
       "      <td>94</td>\n",
       "      <td>157</td>\n",
       "      <td>79</td>\n",
       "      <td>134.0</td>\n",
       "      <td>50.89</td>\n",
       "      <td>1.770</td>\n",
       "      <td>1</td>\n",
       "    </tr>\n",
       "  </tbody>\n",
       "</table>\n",
       "<p>1319 rows × 9 columns</p>\n",
       "</div>"
      ],
      "text/plain": [
       "      age  gender  impluse  pressurehight  pressurelow  glucose    kcm  \\\n",
       "0      64       1       66            160           83    160.0   1.80   \n",
       "1      21       1       94             98           46    296.0   6.75   \n",
       "2      55       1       64            160           77    270.0   1.99   \n",
       "3      64       1       70            120           55    270.0  13.87   \n",
       "4      55       1       64            112           65    300.0   1.08   \n",
       "...   ...     ...      ...            ...          ...      ...    ...   \n",
       "1314   44       1       94            122           67    204.0   1.63   \n",
       "1315   66       1       84            125           55    149.0   1.33   \n",
       "1316   45       1       85            168          104     96.0   1.24   \n",
       "1317   54       1       58            117           68    443.0   5.80   \n",
       "1318   51       1       94            157           79    134.0  50.89   \n",
       "\n",
       "      troponin  class  \n",
       "0        0.012      0  \n",
       "1        1.060      1  \n",
       "2        0.003      0  \n",
       "3        0.122      1  \n",
       "4        0.003      0  \n",
       "...        ...    ...  \n",
       "1314     0.006      0  \n",
       "1315     0.172      1  \n",
       "1316     4.250      1  \n",
       "1317     0.359      1  \n",
       "1318     1.770      1  \n",
       "\n",
       "[1319 rows x 9 columns]"
      ]
     },
     "execution_count": 7,
     "metadata": {},
     "output_type": "execute_result"
    }
   ],
   "source": [
    "# removing the column 'class' from df\n",
    "# as it is of no use now.\n",
    "df.drop(\"class\", axis=1, inplace=True)\n",
    " \n",
    "# Appending the array to our dataFrame \n",
    "# with column name 'class'\n",
    "df[\"class\"] = label\n",
    " \n",
    "# printing Dataframe\n",
    "df"
   ]
  },
  {
   "cell_type": "code",
   "execution_count": 8,
   "metadata": {},
   "outputs": [],
   "source": [
    "X = df.drop(columns = ['class']).values\n",
    "y = df['class'].values"
   ]
  },
  {
   "cell_type": "code",
   "execution_count": 9,
   "metadata": {},
   "outputs": [],
   "source": [
    "from sklearn.model_selection import train_test_split\n",
    "X_train, X_test, y_train, y_test = train_test_split(X, y, test_size=0.2, random_state=42)"
   ]
  },
  {
   "cell_type": "code",
   "execution_count": 10,
   "metadata": {},
   "outputs": [],
   "source": [
    "from imblearn.over_sampling import RandomOverSampler\n",
    "X_train, y_train = RandomOverSampler().fit_resample(X_train, y_train)"
   ]
  },
  {
   "cell_type": "code",
   "execution_count": 11,
   "metadata": {},
   "outputs": [],
   "source": [
    "from sklearn.preprocessing import StandardScaler\n",
    "scaler = StandardScaler()\n",
    "scaler.fit(X_train)\n",
    "X_train = scaler.transform(X_train)\n",
    "X_test = scaler.transform(X_test)"
   ]
  },
  {
   "cell_type": "code",
   "execution_count": 12,
   "metadata": {},
   "outputs": [
    {
     "data": {
      "text/plain": [
       "(1319, 8)"
      ]
     },
     "execution_count": 12,
     "metadata": {},
     "output_type": "execute_result"
    }
   ],
   "source": [
    "X.shape"
   ]
  },
  {
   "cell_type": "code",
   "execution_count": 13,
   "metadata": {},
   "outputs": [
    {
     "data": {
      "text/plain": [
       "(1319, 4)"
      ]
     },
     "execution_count": 13,
     "metadata": {},
     "output_type": "execute_result"
    }
   ],
   "source": [
    "from sklearn.decomposition import PCA\n",
    "pca = PCA(n_components = 4)\n",
    "X = pca.fit_transform(X)\n",
    "X.shape\n"
   ]
  },
  {
   "cell_type": "code",
   "execution_count": 14,
   "metadata": {},
   "outputs": [
    {
     "name": "stdout",
     "output_type": "stream",
     "text": [
      "Number of components to retain: 4\n"
     ]
    }
   ],
   "source": [
    "from sklearn.decomposition import PCA\n",
    "\n",
    "pca = PCA()\n",
    "X_pca = pca.fit_transform(X)\n",
    "explained_variance_ratio = pca.explained_variance_ratio_\n",
    "\n",
    "cumulative_variance = 0\n",
    "n_components_to_retain = 0\n",
    "\n",
    "for i, ratio in enumerate(explained_variance_ratio):\n",
    "    cumulative_variance += ratio\n",
    "    if cumulative_variance >= 0.95:  # Hoặc sử dụng giá trị mong muốn của bạn\n",
    "        n_components_to_retain = i + 1\n",
    "        break\n",
    "\n",
    "print(\"Number of components to retain:\", n_components_to_retain)\n"
   ]
  },
  {
   "cell_type": "code",
   "execution_count": 15,
   "metadata": {},
   "outputs": [
    {
     "data": {
      "text/plain": [
       "647"
      ]
     },
     "execution_count": 15,
     "metadata": {},
     "output_type": "execute_result"
    }
   ],
   "source": [
    "sum(y_train == 0)"
   ]
  },
  {
   "cell_type": "code",
   "execution_count": 16,
   "metadata": {},
   "outputs": [
    {
     "data": {
      "text/plain": [
       "647"
      ]
     },
     "execution_count": 16,
     "metadata": {},
     "output_type": "execute_result"
    }
   ],
   "source": [
    "sum(y_train == 1)\n"
   ]
  },
  {
   "cell_type": "markdown",
   "metadata": {},
   "source": [
    "## SVM"
   ]
  },
  {
   "cell_type": "markdown",
   "metadata": {},
   "source": [
    "- Optimization và Grid Search:\n"
   ]
  },
  {
   "cell_type": "code",
   "execution_count": 17,
   "metadata": {},
   "outputs": [
    {
     "name": "stdout",
     "output_type": "stream",
     "text": [
      "{'C': 100, 'kernel': 'linear'}\n",
      "SVC(C=100, kernel='linear')\n"
     ]
    }
   ],
   "source": [
    "from sklearn.model_selection import GridSearchCV\n",
    "from sklearn.svm import SVC\n",
    "\n",
    "param_grid = {'kernel': ['linear', 'rbf', 'poly', 'sigmoid'],\n",
    "              'C': [0.1, 1, 10, 100]}\n",
    "\n",
    "grid_search = GridSearchCV(SVC(), param_grid, cv=5, scoring='accuracy')\n",
    "grid_search.fit(X_train, y_train)\n",
    "\n",
    "best_params = grid_search.best_params_\n",
    "best_model = grid_search.best_estimator_\n",
    "\n",
    "print(best_params)\n",
    "print(best_model)"
   ]
  },
  {
   "cell_type": "code",
   "execution_count": 18,
   "metadata": {},
   "outputs": [],
   "source": [
    "from sklearn import svm\n",
    "df = svm.SVC(kernel='linear', C=100)\n",
    "df.fit(X_train, y_train)\n",
    "y_pred = df.predict(X_test)"
   ]
  },
  {
   "cell_type": "code",
   "execution_count": 19,
   "metadata": {},
   "outputs": [
    {
     "name": "stdout",
     "output_type": "stream",
     "text": [
      "confusion_matrix: \n",
      " [[ 95   6]\n",
      " [ 14 149]]\n",
      "accuracy_score:  0.9242424242424242\n",
      "f1_score:  0.9371069182389937\n",
      "recall_score:  0.9141104294478528\n",
      "precision_score:  0.9612903225806452\n"
     ]
    }
   ],
   "source": [
    "from sklearn import metrics\n",
    "print(\"confusion_matrix: \\n\", metrics.confusion_matrix(y_test, y_pred))\n",
    "print(\"accuracy_score: \", metrics.accuracy_score(y_test, y_pred))\n",
    "print(\"f1_score: \", metrics.f1_score(y_test, y_pred))\n",
    "print(\"recall_score: \", metrics.recall_score(y_test, y_pred))\n",
    "print(\"precision_score: \", metrics.precision_score(y_test, y_pred))"
   ]
  },
  {
   "cell_type": "markdown",
   "metadata": {},
   "source": [
    "## MLP"
   ]
  },
  {
   "cell_type": "code",
   "execution_count": 20,
   "metadata": {},
   "outputs": [
    {
     "name": "stderr",
     "output_type": "stream",
     "text": [
      "c:\\Users\\Admin\\AppData\\Local\\Programs\\Python\\Python311\\Lib\\site-packages\\sklearn\\neural_network\\_multilayer_perceptron.py:691: ConvergenceWarning: Stochastic Optimizer: Maximum iterations (500) reached and the optimization hasn't converged yet.\n",
      "  warnings.warn(\n",
      "c:\\Users\\Admin\\AppData\\Local\\Programs\\Python\\Python311\\Lib\\site-packages\\sklearn\\neural_network\\_multilayer_perceptron.py:691: ConvergenceWarning: Stochastic Optimizer: Maximum iterations (500) reached and the optimization hasn't converged yet.\n",
      "  warnings.warn(\n",
      "c:\\Users\\Admin\\AppData\\Local\\Programs\\Python\\Python311\\Lib\\site-packages\\sklearn\\neural_network\\_multilayer_perceptron.py:691: ConvergenceWarning: Stochastic Optimizer: Maximum iterations (500) reached and the optimization hasn't converged yet.\n",
      "  warnings.warn(\n",
      "c:\\Users\\Admin\\AppData\\Local\\Programs\\Python\\Python311\\Lib\\site-packages\\sklearn\\neural_network\\_multilayer_perceptron.py:691: ConvergenceWarning: Stochastic Optimizer: Maximum iterations (500) reached and the optimization hasn't converged yet.\n",
      "  warnings.warn(\n",
      "c:\\Users\\Admin\\AppData\\Local\\Programs\\Python\\Python311\\Lib\\site-packages\\sklearn\\neural_network\\_multilayer_perceptron.py:691: ConvergenceWarning: Stochastic Optimizer: Maximum iterations (500) reached and the optimization hasn't converged yet.\n",
      "  warnings.warn(\n",
      "c:\\Users\\Admin\\AppData\\Local\\Programs\\Python\\Python311\\Lib\\site-packages\\sklearn\\neural_network\\_multilayer_perceptron.py:691: ConvergenceWarning: Stochastic Optimizer: Maximum iterations (500) reached and the optimization hasn't converged yet.\n",
      "  warnings.warn(\n",
      "c:\\Users\\Admin\\AppData\\Local\\Programs\\Python\\Python311\\Lib\\site-packages\\sklearn\\neural_network\\_multilayer_perceptron.py:691: ConvergenceWarning: Stochastic Optimizer: Maximum iterations (500) reached and the optimization hasn't converged yet.\n",
      "  warnings.warn(\n",
      "c:\\Users\\Admin\\AppData\\Local\\Programs\\Python\\Python311\\Lib\\site-packages\\sklearn\\neural_network\\_multilayer_perceptron.py:691: ConvergenceWarning: Stochastic Optimizer: Maximum iterations (500) reached and the optimization hasn't converged yet.\n",
      "  warnings.warn(\n",
      "c:\\Users\\Admin\\AppData\\Local\\Programs\\Python\\Python311\\Lib\\site-packages\\sklearn\\neural_network\\_multilayer_perceptron.py:691: ConvergenceWarning: Stochastic Optimizer: Maximum iterations (500) reached and the optimization hasn't converged yet.\n",
      "  warnings.warn(\n",
      "c:\\Users\\Admin\\AppData\\Local\\Programs\\Python\\Python311\\Lib\\site-packages\\sklearn\\neural_network\\_multilayer_perceptron.py:691: ConvergenceWarning: Stochastic Optimizer: Maximum iterations (500) reached and the optimization hasn't converged yet.\n",
      "  warnings.warn(\n",
      "c:\\Users\\Admin\\AppData\\Local\\Programs\\Python\\Python311\\Lib\\site-packages\\sklearn\\neural_network\\_multilayer_perceptron.py:691: ConvergenceWarning: Stochastic Optimizer: Maximum iterations (500) reached and the optimization hasn't converged yet.\n",
      "  warnings.warn(\n",
      "c:\\Users\\Admin\\AppData\\Local\\Programs\\Python\\Python311\\Lib\\site-packages\\sklearn\\neural_network\\_multilayer_perceptron.py:691: ConvergenceWarning: Stochastic Optimizer: Maximum iterations (500) reached and the optimization hasn't converged yet.\n",
      "  warnings.warn(\n",
      "c:\\Users\\Admin\\AppData\\Local\\Programs\\Python\\Python311\\Lib\\site-packages\\sklearn\\neural_network\\_multilayer_perceptron.py:691: ConvergenceWarning: Stochastic Optimizer: Maximum iterations (500) reached and the optimization hasn't converged yet.\n",
      "  warnings.warn(\n",
      "c:\\Users\\Admin\\AppData\\Local\\Programs\\Python\\Python311\\Lib\\site-packages\\sklearn\\neural_network\\_multilayer_perceptron.py:691: ConvergenceWarning: Stochastic Optimizer: Maximum iterations (500) reached and the optimization hasn't converged yet.\n",
      "  warnings.warn(\n"
     ]
    },
    {
     "name": "stdout",
     "output_type": "stream",
     "text": [
      "Best parameters for MLP: {'alpha': 0.1, 'hidden_layer_sizes': (50, 50, 50)}\n",
      "Accuracy on test set: 0.8295454545454546\n"
     ]
    }
   ],
   "source": [
    "from sklearn.neural_network import MLPClassifier\n",
    "\n",
    "# Thiết lập lưới tìm kiếm\n",
    "param_grid_mlp = {'hidden_layer_sizes': [(50,50,50), (50,100,50), (100,)],\n",
    "                  'alpha': [0.001, 0.01, 0.1]}\n",
    "\n",
    "# Tạo mô hình MLP\n",
    "mlp = MLPClassifier(max_iter=500)\n",
    "\n",
    "# Tìm kiếm trên lưới\n",
    "grid_search_mlp = GridSearchCV(mlp, param_grid_mlp, cv=5, scoring='accuracy')\n",
    "grid_search_mlp.fit(X_train, y_train)\n",
    "\n",
    "# In kết quả\n",
    "print(\"Best parameters for MLP:\", grid_search_mlp.best_params_)\n",
    "\n",
    "# Đánh giá mô hình trên tập kiểm thử\n",
    "y_pred_mlp = grid_search_mlp.predict(X_test)\n",
    "accuracy_mlp = accuracy_score(y_test, y_pred_mlp)\n",
    "print(\"Accuracy on test set:\", accuracy_mlp)"
   ]
  },
  {
   "cell_type": "code",
   "execution_count": 29,
   "metadata": {},
   "outputs": [
    {
     "name": "stderr",
     "output_type": "stream",
     "text": [
      "c:\\Users\\Admin\\AppData\\Local\\Programs\\Python\\Python311\\Lib\\site-packages\\sklearn\\neural_network\\_multilayer_perceptron.py:691: ConvergenceWarning: Stochastic Optimizer: Maximum iterations (200) reached and the optimization hasn't converged yet.\n",
      "  warnings.warn(\n"
     ]
    }
   ],
   "source": [
    "mlp = MLPClassifier(hidden_layer_sizes=(50, 50, 50), alpha=0.1)\n",
    "# mlp = MLPClassifier()\n",
    "mlp.fit(X_train, y_train)\n",
    "y_pred_mlp = mlp.predict(X_test)"
   ]
  },
  {
   "cell_type": "code",
   "execution_count": 30,
   "metadata": {},
   "outputs": [
    {
     "name": "stdout",
     "output_type": "stream",
     "text": [
      "confusion_matrix: \n",
      " [[ 70  31]\n",
      " [ 10 153]]\n",
      "accuracy_score:  0.8446969696969697\n",
      "f1_score:  0.8818443804034581\n",
      "recall_score:  0.9386503067484663\n",
      "precision_score:  0.8315217391304348\n"
     ]
    }
   ],
   "source": [
    "from sklearn import metrics\n",
    "print(\"confusion_matrix: \\n\", metrics.confusion_matrix(y_test, y_pred_mlp))\n",
    "print(\"accuracy_score: \", metrics.accuracy_score(y_test, y_pred_mlp))\n",
    "print(\"f1_score: \", metrics.f1_score(y_test, y_pred_mlp))\n",
    "print(\"recall_score: \", metrics.recall_score(y_test, y_pred_mlp))\n",
    "print(\"precision_score: \", metrics.precision_score(y_test, y_pred_mlp))\n"
   ]
  },
  {
   "cell_type": "markdown",
   "metadata": {},
   "source": [
    "## Logistic_regression"
   ]
  },
  {
   "cell_type": "markdown",
   "metadata": {},
   "source": [
    "- Optimization và Grid Search:"
   ]
  },
  {
   "cell_type": "code",
   "execution_count": 23,
   "metadata": {},
   "outputs": [
    {
     "name": "stdout",
     "output_type": "stream",
     "text": [
      "Best parameters for Logistic Regression: {'C': 100}\n",
      "Accuracy on test set: 0.8901515151515151\n"
     ]
    }
   ],
   "source": [
    "from sklearn.linear_model import LogisticRegression\n",
    "\n",
    "# Thiết lập lưới tìm kiếm\n",
    "param_grid_lr = {'C': [0.001, 0.01, 0.1, 1, 10, 100]}\n",
    "\n",
    "# Tạo mô hình Logistic Regression\n",
    "logistic_regression = LogisticRegression()\n",
    "\n",
    "# Tìm kiếm trên lưới\n",
    "grid_search_lr = GridSearchCV(logistic_regression, param_grid_lr, cv=5, scoring='accuracy')\n",
    "grid_search_lr.fit(X_train, y_train)\n",
    "\n",
    "# In kết quả\n",
    "print(\"Best parameters for Logistic Regression:\", grid_search_lr.best_params_)\n",
    "\n",
    "# Đánh giá mô hình trên tập kiểm thử\n",
    "y_pred_lr = grid_search_lr.predict(X_test)\n",
    "accuracy_lr = accuracy_score(y_test, y_pred_lr)\n",
    "print(\"Accuracy on test set:\", accuracy_lr)"
   ]
  },
  {
   "cell_type": "code",
   "execution_count": 24,
   "metadata": {},
   "outputs": [],
   "source": [
    "from sklearn.linear_model import LogisticRegression\n",
    "lgr = LogisticRegression(C=100).fit(X_train, y_train)\n",
    "y_pred_lgr = lgr.predict(X_test)"
   ]
  },
  {
   "cell_type": "code",
   "execution_count": 25,
   "metadata": {},
   "outputs": [
    {
     "name": "stdout",
     "output_type": "stream",
     "text": [
      "confusion_matrix: \n",
      " [[ 94   7]\n",
      " [ 22 141]]\n",
      "accuracy_score:  0.8901515151515151\n",
      "f1_score:  0.9067524115755626\n",
      "recall_score:  0.8650306748466258\n",
      "precision_score:  0.9527027027027027\n"
     ]
    }
   ],
   "source": [
    "from sklearn import metrics\n",
    "print(\"confusion_matrix: \\n\", metrics.confusion_matrix(y_test, y_pred_lgr))\n",
    "print(\"accuracy_score: \", metrics.accuracy_score(y_test, y_pred_lgr))\n",
    "print(\"f1_score: \", metrics.f1_score(y_test, y_pred_lgr))\n",
    "print(\"recall_score: \", metrics.recall_score(y_test, y_pred_lgr))\n",
    "print(\"precision_score: \", metrics.precision_score(y_test, y_pred_lgr))\n"
   ]
  },
  {
   "cell_type": "markdown",
   "metadata": {},
   "source": [
    "## Decision Tree"
   ]
  },
  {
   "cell_type": "code",
   "execution_count": 26,
   "metadata": {},
   "outputs": [
    {
     "name": "stdout",
     "output_type": "stream",
     "text": [
      "Best parameters for Decision Tree: {'ccp_alpha': 0.001, 'criterion': 'entropy', 'max_depth': 4, 'min_samples_leaf': 2, 'min_samples_split': 2}\n",
      "Accuracy on test set: 0.9772727272727273\n"
     ]
    }
   ],
   "source": [
    "from sklearn.tree import DecisionTreeClassifier\n",
    "# Thiết lập lưới tìm kiếm\n",
    "param_grid_dt = {'max_depth': [3, 4, 5, 6, 7, None],\n",
    "                 'min_samples_split': [2, 5, 10],\n",
    "                 'min_samples_leaf': [1, 2, 4],\n",
    "                 'ccp_alpha': [0.001, 0.01, 0.1, 1.0],\n",
    "                 'criterion': ['entropy', 'gini']}\n",
    "\n",
    "# Tạo mô hình Decision Tree\n",
    "dt = DecisionTreeClassifier()\n",
    "\n",
    "# Tìm kiếm trên lưới\n",
    "grid_search_dt = GridSearchCV(dt, param_grid_dt, cv=5, scoring='accuracy')\n",
    "grid_search_dt.fit(X_train, y_train)\n",
    "\n",
    "# In kết quả\n",
    "print(\"Best parameters for Decision Tree:\", grid_search_dt.best_params_)\n",
    "\n",
    "# Đánh giá mô hình trên tập kiểm thử\n",
    "y_pred_dt = grid_search_dt.predict(X_test)\n",
    "accuracy_dt = accuracy_score(y_test, y_pred_dt)\n",
    "print(\"Accuracy on test set:\", accuracy_dt)"
   ]
  },
  {
   "cell_type": "code",
   "execution_count": 27,
   "metadata": {},
   "outputs": [],
   "source": [
    "dt = DecisionTreeClassifier(ccp_alpha=0.001, max_depth = 5, min_samples_leaf=1, min_samples_split=2, criterion='entropy').fit(X_train, y_train)\n",
    "y_pred_dt = dt.predict(X_test)"
   ]
  },
  {
   "cell_type": "code",
   "execution_count": 28,
   "metadata": {},
   "outputs": [
    {
     "name": "stdout",
     "output_type": "stream",
     "text": [
      "confusion_matrix: \n",
      " [[ 98   3]\n",
      " [  3 160]]\n",
      "accuracy_score:  0.9772727272727273\n",
      "f1_score:  0.98159509202454\n",
      "recall_score:  0.9815950920245399\n",
      "precision_score:  0.9815950920245399\n"
     ]
    }
   ],
   "source": [
    "from sklearn import metrics\n",
    "print(\"confusion_matrix: \\n\", metrics.confusion_matrix(y_test, y_pred_dt))\n",
    "print(\"accuracy_score: \", metrics.accuracy_score(y_test, y_pred_dt))\n",
    "print(\"f1_score: \", metrics.f1_score(y_test, y_pred_dt))\n",
    "print(\"recall_score: \", metrics.recall_score(y_test, y_pred_dt))\n",
    "print(\"precision_score: \", metrics.precision_score(y_test, y_pred_dt))\n"
   ]
  }
 ],
 "metadata": {
  "kernelspec": {
   "display_name": "Python 3",
   "language": "python",
   "name": "python3"
  },
  "language_info": {
   "codemirror_mode": {
    "name": "ipython",
    "version": 3
   },
   "file_extension": ".py",
   "mimetype": "text/x-python",
   "name": "python",
   "nbconvert_exporter": "python",
   "pygments_lexer": "ipython3",
   "version": "3.11.5"
  }
 },
 "nbformat": 4,
 "nbformat_minor": 2
}
