{
 "cells": [
  {
   "cell_type": "code",
   "execution_count": 59,
   "metadata": {},
   "outputs": [],
   "source": [
    "import pandas as pd\n",
    "import numpy as np\n",
    "import matplotlib.pyplot as plt\n",
    "import seaborn as sns\n",
    "from sklearn import metrics\n",
    "from sklearn.metrics import accuracy_score\n",
    "import shap"
   ]
  },
  {
   "cell_type": "code",
   "execution_count": 60,
   "metadata": {},
   "outputs": [
    {
     "data": {
      "text/html": [
       "<div>\n",
       "<style scoped>\n",
       "    .dataframe tbody tr th:only-of-type {\n",
       "        vertical-align: middle;\n",
       "    }\n",
       "\n",
       "    .dataframe tbody tr th {\n",
       "        vertical-align: top;\n",
       "    }\n",
       "\n",
       "    .dataframe thead th {\n",
       "        text-align: right;\n",
       "    }\n",
       "</style>\n",
       "<table border=\"1\" class=\"dataframe\">\n",
       "  <thead>\n",
       "    <tr style=\"text-align: right;\">\n",
       "      <th></th>\n",
       "      <th>age</th>\n",
       "      <th>gender</th>\n",
       "      <th>impluse</th>\n",
       "      <th>pressurehight</th>\n",
       "      <th>pressurelow</th>\n",
       "      <th>glucose</th>\n",
       "      <th>kcm</th>\n",
       "      <th>troponin</th>\n",
       "      <th>class</th>\n",
       "    </tr>\n",
       "  </thead>\n",
       "  <tbody>\n",
       "    <tr>\n",
       "      <th>0</th>\n",
       "      <td>64</td>\n",
       "      <td>1</td>\n",
       "      <td>66</td>\n",
       "      <td>160</td>\n",
       "      <td>83</td>\n",
       "      <td>160.0</td>\n",
       "      <td>1.80</td>\n",
       "      <td>0.012</td>\n",
       "      <td>negative</td>\n",
       "    </tr>\n",
       "    <tr>\n",
       "      <th>1</th>\n",
       "      <td>21</td>\n",
       "      <td>1</td>\n",
       "      <td>94</td>\n",
       "      <td>98</td>\n",
       "      <td>46</td>\n",
       "      <td>296.0</td>\n",
       "      <td>6.75</td>\n",
       "      <td>1.060</td>\n",
       "      <td>positive</td>\n",
       "    </tr>\n",
       "    <tr>\n",
       "      <th>2</th>\n",
       "      <td>55</td>\n",
       "      <td>1</td>\n",
       "      <td>64</td>\n",
       "      <td>160</td>\n",
       "      <td>77</td>\n",
       "      <td>270.0</td>\n",
       "      <td>1.99</td>\n",
       "      <td>0.003</td>\n",
       "      <td>negative</td>\n",
       "    </tr>\n",
       "    <tr>\n",
       "      <th>3</th>\n",
       "      <td>64</td>\n",
       "      <td>1</td>\n",
       "      <td>70</td>\n",
       "      <td>120</td>\n",
       "      <td>55</td>\n",
       "      <td>270.0</td>\n",
       "      <td>13.87</td>\n",
       "      <td>0.122</td>\n",
       "      <td>positive</td>\n",
       "    </tr>\n",
       "    <tr>\n",
       "      <th>4</th>\n",
       "      <td>55</td>\n",
       "      <td>1</td>\n",
       "      <td>64</td>\n",
       "      <td>112</td>\n",
       "      <td>65</td>\n",
       "      <td>300.0</td>\n",
       "      <td>1.08</td>\n",
       "      <td>0.003</td>\n",
       "      <td>negative</td>\n",
       "    </tr>\n",
       "  </tbody>\n",
       "</table>\n",
       "</div>"
      ],
      "text/plain": [
       "   age  gender  impluse  pressurehight  pressurelow  glucose    kcm  troponin  \\\n",
       "0   64       1       66            160           83    160.0   1.80     0.012   \n",
       "1   21       1       94             98           46    296.0   6.75     1.060   \n",
       "2   55       1       64            160           77    270.0   1.99     0.003   \n",
       "3   64       1       70            120           55    270.0  13.87     0.122   \n",
       "4   55       1       64            112           65    300.0   1.08     0.003   \n",
       "\n",
       "      class  \n",
       "0  negative  \n",
       "1  positive  \n",
       "2  negative  \n",
       "3  positive  \n",
       "4  negative  "
      ]
     },
     "execution_count": 60,
     "metadata": {},
     "output_type": "execute_result"
    }
   ],
   "source": [
    "df = pd.read_csv('E:\\\\CODE\\\\python\\\\Machine_learning\\\\Do_an_cuoiky\\\\datasets\\\\Heart_Attack\\\\Heart Attack.csv')\n",
    "# df = pd.read_csv('E:\\\\CODE\\\\python\\\\Machine_learning\\\\decision_tree\\\\heart_disease\\\\heart\\\\heart.csv')\n",
    "df.head()"
   ]
  },
  {
   "cell_type": "code",
   "execution_count": 61,
   "metadata": {},
   "outputs": [
    {
     "data": {
      "text/plain": [
       "(1319, 9)"
      ]
     },
     "execution_count": 61,
     "metadata": {},
     "output_type": "execute_result"
    }
   ],
   "source": [
    "df.shape"
   ]
  },
  {
   "cell_type": "markdown",
   "metadata": {},
   "source": [
    "- chuyển đổi các thành phần trong lớp class thành số"
   ]
  },
  {
   "cell_type": "code",
   "execution_count": 62,
   "metadata": {},
   "outputs": [
    {
     "data": {
      "text/html": [
       "<div>\n",
       "<style scoped>\n",
       "    .dataframe tbody tr th:only-of-type {\n",
       "        vertical-align: middle;\n",
       "    }\n",
       "\n",
       "    .dataframe tbody tr th {\n",
       "        vertical-align: top;\n",
       "    }\n",
       "\n",
       "    .dataframe thead th {\n",
       "        text-align: right;\n",
       "    }\n",
       "</style>\n",
       "<table border=\"1\" class=\"dataframe\">\n",
       "  <thead>\n",
       "    <tr style=\"text-align: right;\">\n",
       "      <th></th>\n",
       "      <th>age</th>\n",
       "      <th>gender</th>\n",
       "      <th>impluse</th>\n",
       "      <th>pressurehight</th>\n",
       "      <th>pressurelow</th>\n",
       "      <th>glucose</th>\n",
       "      <th>kcm</th>\n",
       "      <th>troponin</th>\n",
       "      <th>class</th>\n",
       "    </tr>\n",
       "  </thead>\n",
       "  <tbody>\n",
       "    <tr>\n",
       "      <th>0</th>\n",
       "      <td>64</td>\n",
       "      <td>1</td>\n",
       "      <td>66</td>\n",
       "      <td>160</td>\n",
       "      <td>83</td>\n",
       "      <td>160.0</td>\n",
       "      <td>1.80</td>\n",
       "      <td>0.012</td>\n",
       "      <td>0</td>\n",
       "    </tr>\n",
       "    <tr>\n",
       "      <th>1</th>\n",
       "      <td>21</td>\n",
       "      <td>1</td>\n",
       "      <td>94</td>\n",
       "      <td>98</td>\n",
       "      <td>46</td>\n",
       "      <td>296.0</td>\n",
       "      <td>6.75</td>\n",
       "      <td>1.060</td>\n",
       "      <td>1</td>\n",
       "    </tr>\n",
       "    <tr>\n",
       "      <th>2</th>\n",
       "      <td>55</td>\n",
       "      <td>1</td>\n",
       "      <td>64</td>\n",
       "      <td>160</td>\n",
       "      <td>77</td>\n",
       "      <td>270.0</td>\n",
       "      <td>1.99</td>\n",
       "      <td>0.003</td>\n",
       "      <td>0</td>\n",
       "    </tr>\n",
       "    <tr>\n",
       "      <th>3</th>\n",
       "      <td>64</td>\n",
       "      <td>1</td>\n",
       "      <td>70</td>\n",
       "      <td>120</td>\n",
       "      <td>55</td>\n",
       "      <td>270.0</td>\n",
       "      <td>13.87</td>\n",
       "      <td>0.122</td>\n",
       "      <td>1</td>\n",
       "    </tr>\n",
       "    <tr>\n",
       "      <th>4</th>\n",
       "      <td>55</td>\n",
       "      <td>1</td>\n",
       "      <td>64</td>\n",
       "      <td>112</td>\n",
       "      <td>65</td>\n",
       "      <td>300.0</td>\n",
       "      <td>1.08</td>\n",
       "      <td>0.003</td>\n",
       "      <td>0</td>\n",
       "    </tr>\n",
       "    <tr>\n",
       "      <th>...</th>\n",
       "      <td>...</td>\n",
       "      <td>...</td>\n",
       "      <td>...</td>\n",
       "      <td>...</td>\n",
       "      <td>...</td>\n",
       "      <td>...</td>\n",
       "      <td>...</td>\n",
       "      <td>...</td>\n",
       "      <td>...</td>\n",
       "    </tr>\n",
       "    <tr>\n",
       "      <th>1314</th>\n",
       "      <td>44</td>\n",
       "      <td>1</td>\n",
       "      <td>94</td>\n",
       "      <td>122</td>\n",
       "      <td>67</td>\n",
       "      <td>204.0</td>\n",
       "      <td>1.63</td>\n",
       "      <td>0.006</td>\n",
       "      <td>0</td>\n",
       "    </tr>\n",
       "    <tr>\n",
       "      <th>1315</th>\n",
       "      <td>66</td>\n",
       "      <td>1</td>\n",
       "      <td>84</td>\n",
       "      <td>125</td>\n",
       "      <td>55</td>\n",
       "      <td>149.0</td>\n",
       "      <td>1.33</td>\n",
       "      <td>0.172</td>\n",
       "      <td>1</td>\n",
       "    </tr>\n",
       "    <tr>\n",
       "      <th>1316</th>\n",
       "      <td>45</td>\n",
       "      <td>1</td>\n",
       "      <td>85</td>\n",
       "      <td>168</td>\n",
       "      <td>104</td>\n",
       "      <td>96.0</td>\n",
       "      <td>1.24</td>\n",
       "      <td>4.250</td>\n",
       "      <td>1</td>\n",
       "    </tr>\n",
       "    <tr>\n",
       "      <th>1317</th>\n",
       "      <td>54</td>\n",
       "      <td>1</td>\n",
       "      <td>58</td>\n",
       "      <td>117</td>\n",
       "      <td>68</td>\n",
       "      <td>443.0</td>\n",
       "      <td>5.80</td>\n",
       "      <td>0.359</td>\n",
       "      <td>1</td>\n",
       "    </tr>\n",
       "    <tr>\n",
       "      <th>1318</th>\n",
       "      <td>51</td>\n",
       "      <td>1</td>\n",
       "      <td>94</td>\n",
       "      <td>157</td>\n",
       "      <td>79</td>\n",
       "      <td>134.0</td>\n",
       "      <td>50.89</td>\n",
       "      <td>1.770</td>\n",
       "      <td>1</td>\n",
       "    </tr>\n",
       "  </tbody>\n",
       "</table>\n",
       "<p>1319 rows × 9 columns</p>\n",
       "</div>"
      ],
      "text/plain": [
       "      age  gender  impluse  pressurehight  pressurelow  glucose    kcm  \\\n",
       "0      64       1       66            160           83    160.0   1.80   \n",
       "1      21       1       94             98           46    296.0   6.75   \n",
       "2      55       1       64            160           77    270.0   1.99   \n",
       "3      64       1       70            120           55    270.0  13.87   \n",
       "4      55       1       64            112           65    300.0   1.08   \n",
       "...   ...     ...      ...            ...          ...      ...    ...   \n",
       "1314   44       1       94            122           67    204.0   1.63   \n",
       "1315   66       1       84            125           55    149.0   1.33   \n",
       "1316   45       1       85            168          104     96.0   1.24   \n",
       "1317   54       1       58            117           68    443.0   5.80   \n",
       "1318   51       1       94            157           79    134.0  50.89   \n",
       "\n",
       "      troponin  class  \n",
       "0        0.012      0  \n",
       "1        1.060      1  \n",
       "2        0.003      0  \n",
       "3        0.122      1  \n",
       "4        0.003      0  \n",
       "...        ...    ...  \n",
       "1314     0.006      0  \n",
       "1315     0.172      1  \n",
       "1316     4.250      1  \n",
       "1317     0.359      1  \n",
       "1318     1.770      1  \n",
       "\n",
       "[1319 rows x 9 columns]"
      ]
     },
     "execution_count": 62,
     "metadata": {},
     "output_type": "execute_result"
    }
   ],
   "source": [
    "from sklearn.preprocessing import LabelEncoder\n",
    "ecd = LabelEncoder()\n",
    "df['class'] = ecd.fit_transform(df['class'])\n",
    "df"
   ]
  },
  {
   "cell_type": "code",
   "execution_count": 63,
   "metadata": {},
   "outputs": [],
   "source": [
    "feature_names = ['age', 'gender', 'impluse', 'pressurehight', 'pressurelow', 'glucose', 'kcm', 'troponin']\n",
    "X = df.drop(columns= ['class']).values\n",
    "y = df['class'].values"
   ]
  },
  {
   "cell_type": "code",
   "execution_count": 64,
   "metadata": {},
   "outputs": [],
   "source": [
    "from sklearn.model_selection import train_test_split\n",
    "X_train, X_test, y_train, y_test = train_test_split(X, y, test_size=0.2, random_state=42)"
   ]
  },
  {
   "cell_type": "markdown",
   "metadata": {},
   "source": [
    "- Sử dụng RandomOverSampler để cân bằng dữ liệu ở lớp class"
   ]
  },
  {
   "cell_type": "code",
   "execution_count": 65,
   "metadata": {},
   "outputs": [],
   "source": [
    "from imblearn.over_sampling import RandomOverSampler\n",
    "X_train, y_train = RandomOverSampler().fit_resample(X_train, y_train)"
   ]
  },
  {
   "cell_type": "markdown",
   "metadata": {},
   "source": [
    "- Standardization"
   ]
  },
  {
   "cell_type": "code",
   "execution_count": 66,
   "metadata": {},
   "outputs": [],
   "source": [
    "from sklearn.preprocessing import StandardScaler\n",
    "scaler = StandardScaler()\n",
    "scaler.fit(X_train)\n",
    "X_train = scaler.transform(X_train)\n",
    "X_test = scaler.transform(X_test)"
   ]
  },
  {
   "cell_type": "code",
   "execution_count": 67,
   "metadata": {},
   "outputs": [
    {
     "data": {
      "text/plain": [
       "(1319, 8)"
      ]
     },
     "execution_count": 67,
     "metadata": {},
     "output_type": "execute_result"
    }
   ],
   "source": [
    "X.shape"
   ]
  },
  {
   "cell_type": "markdown",
   "metadata": {},
   "source": [
    "- PCA"
   ]
  },
  {
   "cell_type": "code",
   "execution_count": 68,
   "metadata": {},
   "outputs": [
    {
     "data": {
      "text/plain": [
       "(1319, 8)"
      ]
     },
     "execution_count": 68,
     "metadata": {},
     "output_type": "execute_result"
    }
   ],
   "source": [
    "from sklearn.decomposition import PCA\n",
    "pca = PCA(n_components = None)\n",
    "X = pca.fit_transform(X)\n",
    "X.shape\n"
   ]
  },
  {
   "cell_type": "code",
   "execution_count": 69,
   "metadata": {},
   "outputs": [
    {
     "data": {
      "text/plain": [
       "647"
      ]
     },
     "execution_count": 69,
     "metadata": {},
     "output_type": "execute_result"
    }
   ],
   "source": [
    "sum(y_train == 0)"
   ]
  },
  {
   "cell_type": "code",
   "execution_count": 70,
   "metadata": {},
   "outputs": [
    {
     "data": {
      "text/plain": [
       "647"
      ]
     },
     "execution_count": 70,
     "metadata": {},
     "output_type": "execute_result"
    }
   ],
   "source": [
    "sum(y_train == 1)\n"
   ]
  },
  {
   "cell_type": "markdown",
   "metadata": {},
   "source": [
    "## SVM"
   ]
  },
  {
   "cell_type": "code",
   "execution_count": 71,
   "metadata": {},
   "outputs": [],
   "source": [
    "from sklearn import svm\n",
    "svm = svm.SVC(kernel='linear')\n",
    "svm.fit(X_train, y_train)\n",
    "y_pred = svm.predict(X_test)"
   ]
  },
  {
   "cell_type": "code",
   "execution_count": 72,
   "metadata": {},
   "outputs": [
    {
     "name": "stdout",
     "output_type": "stream",
     "text": [
      "confusion_matrix: \n",
      " [[ 99   2]\n",
      " [ 55 108]]\n",
      "accuracy_score:  0.7840909090909091\n",
      "f1_score:  0.7912087912087912\n",
      "recall_score:  0.6625766871165644\n",
      "precision_score:  0.9818181818181818\n"
     ]
    }
   ],
   "source": [
    "# Kết quả\n",
    "print(\"confusion_matrix: \\n\", metrics.confusion_matrix(y_test, y_pred))\n",
    "print(\"accuracy_score: \", metrics.accuracy_score(y_test, y_pred))\n",
    "print(\"f1_score: \", metrics.f1_score(y_test, y_pred))\n",
    "print(\"recall_score: \", metrics.recall_score(y_test, y_pred))\n",
    "print(\"precision_score: \", metrics.precision_score(y_test, y_pred))"
   ]
  },
  {
   "cell_type": "markdown",
   "metadata": {},
   "source": [
    "- Dùng Shap để chọn feature importance "
   ]
  },
  {
   "cell_type": "code",
   "execution_count": 73,
   "metadata": {},
   "outputs": [
    {
     "data": {
      "image/png": "[encoded data removed]",
      "text/plain": [
       "<Figure size 800x470 with 1 Axes>"
      ]
     },
     "metadata": {},
     "output_type": "display_data"
    }
   ],
   "source": [
    "# Use the KernelExplainer for SVM\n",
    "explainer = shap.Explainer(svm, X_train)\n",
    "shap_values = explainer.shap_values(X_train)\n",
    "\n",
    "# Plot the summary plot\n",
    "shap.summary_plot(shap_values, X_train, plot_type=\"bar\", feature_names = feature_names)"
   ]
  },
  {
   "cell_type": "markdown",
   "metadata": {},
   "source": [
    "- Train lại"
   ]
  },
  {
   "cell_type": "code",
   "execution_count": 74,
   "metadata": {},
   "outputs": [],
   "source": [
    "# Loại bỏ những feature không quan trọng\n",
    "X_svm = df.drop(columns= ['class', 'glucose', 'impluse', 'pressurelow', 'pressurehight']).values"
   ]
  },
  {
   "cell_type": "code",
   "execution_count": 75,
   "metadata": {},
   "outputs": [],
   "source": [
    "# Chia dữ liêu để train và test\n",
    "X_svm_train, X_svm_test, y_svm_train, y_svm_test = train_test_split(X_svm, y, test_size=0.2, random_state=42)"
   ]
  },
  {
   "cell_type": "markdown",
   "metadata": {},
   "source": [
    "- Sử dụng Hyperparameter tuning để chọn ra tham số và model tốt nhất"
   ]
  },
  {
   "cell_type": "code",
   "execution_count": 76,
   "metadata": {},
   "outputs": [
    {
     "name": "stdout",
     "output_type": "stream",
     "text": [
      "{'C': 100, 'kernel': 'linear'}\n",
      "SVC(C=100, kernel='linear')\n"
     ]
    }
   ],
   "source": [
    "from sklearn.model_selection import GridSearchCV\n",
    "from sklearn.svm import SVC\n",
    "\n",
    "param_grid = {'kernel': ['linear', 'rbf', 'poly', 'sigmoid'],\n",
    "              'C': [0.1, 1, 10, 100]}\n",
    "\n",
    "grid_search = GridSearchCV(SVC(), param_grid, cv=5, scoring='accuracy')\n",
    "grid_search.fit(X_train, y_train)\n",
    "\n",
    "best_params = grid_search.best_params_\n",
    "best_model = grid_search.best_estimator_\n",
    "\n",
    "print(best_params)\n",
    "print(best_model)"
   ]
  },
  {
   "cell_type": "code",
   "execution_count": 79,
   "metadata": {},
   "outputs": [],
   "source": [
    "# Train\n",
    "from sklearn import svm\n",
    "svm_shap = svm.SVC(kernel='linear', C=100)\n",
    "svm_shap.fit(X_svm_train, y_svm_train)\n",
    "y_pred_shap = svm_shap.predict(X_svm_test)"
   ]
  },
  {
   "cell_type": "code",
   "execution_count": 80,
   "metadata": {},
   "outputs": [
    {
     "name": "stdout",
     "output_type": "stream",
     "text": [
      "confusion_matrix: \n",
      " [[ 92   9]\n",
      " [  9 154]]\n",
      "accuracy_score:  0.9318181818181818\n",
      "f1_score:  0.9447852760736196\n",
      "recall_score:  0.9447852760736196\n",
      "precision_score:  0.9447852760736196\n"
     ]
    }
   ],
   "source": [
    "# Kết quả\n",
    "print(\"confusion_matrix: \\n\", metrics.confusion_matrix(y_svm_test, y_pred_shap))\n",
    "print(\"accuracy_score: \", metrics.accuracy_score(y_svm_test, y_pred_shap))\n",
    "print(\"f1_score: \", metrics.f1_score(y_svm_test, y_pred_shap))\n",
    "print(\"recall_score: \", metrics.recall_score(y_svm_test, y_pred_shap))\n",
    "print(\"precision_score: \", metrics.precision_score(y_svm_test, y_pred_shap))"
   ]
  },
  {
   "cell_type": "markdown",
   "metadata": {},
   "source": [
    "## MLP"
   ]
  },
  {
   "cell_type": "code",
   "execution_count": 81,
   "metadata": {},
   "outputs": [],
   "source": [
    "# Khai báo thư viện\n",
    "from sklearn.neural_network import MLPClassifier"
   ]
  },
  {
   "cell_type": "markdown",
   "metadata": {},
   "source": [
    "- Sử dụng Hyperparameter tuning để chọn ra tham số và model tốt nhất"
   ]
  },
  {
   "cell_type": "code",
   "execution_count": 82,
   "metadata": {},
   "outputs": [
    {
     "name": "stderr",
     "output_type": "stream",
     "text": [
      "Stochastic Optimizer: Maximum iterations (500) reached and the optimization hasn't converged yet.\n",
      "Stochastic Optimizer: Maximum iterations (500) reached and the optimization hasn't converged yet.\n",
      "Stochastic Optimizer: Maximum iterations (500) reached and the optimization hasn't converged yet.\n",
      "Stochastic Optimizer: Maximum iterations (500) reached and the optimization hasn't converged yet.\n",
      "Stochastic Optimizer: Maximum iterations (500) reached and the optimization hasn't converged yet.\n",
      "Stochastic Optimizer: Maximum iterations (500) reached and the optimization hasn't converged yet.\n",
      "Stochastic Optimizer: Maximum iterations (500) reached and the optimization hasn't converged yet.\n",
      "Stochastic Optimizer: Maximum iterations (500) reached and the optimization hasn't converged yet.\n",
      "Stochastic Optimizer: Maximum iterations (500) reached and the optimization hasn't converged yet.\n",
      "Stochastic Optimizer: Maximum iterations (500) reached and the optimization hasn't converged yet.\n",
      "Stochastic Optimizer: Maximum iterations (500) reached and the optimization hasn't converged yet.\n",
      "Stochastic Optimizer: Maximum iterations (500) reached and the optimization hasn't converged yet.\n",
      "Stochastic Optimizer: Maximum iterations (500) reached and the optimization hasn't converged yet.\n",
      "Stochastic Optimizer: Maximum iterations (500) reached and the optimization hasn't converged yet.\n",
      "Stochastic Optimizer: Maximum iterations (500) reached and the optimization hasn't converged yet.\n"
     ]
    },
    {
     "name": "stdout",
     "output_type": "stream",
     "text": [
      "Best parameters for MLP: {'alpha': 0.01, 'hidden_layer_sizes': (50, 50, 50)}\n",
      "Accuracy on test set: 0.8333333333333334\n"
     ]
    }
   ],
   "source": [
    "# Thiết lập lưới tìm kiếm\n",
    "param_grid_mlp = {'hidden_layer_sizes': [(50,50,50), (50,100,50), (100,)],\n",
    "                  'alpha': [0.001, 0.01, 0.1]}\n",
    "\n",
    "# Tạo mô hình MLP\n",
    "mlp = MLPClassifier(max_iter=500)\n",
    "\n",
    "# Tìm kiếm trên lưới\n",
    "grid_search_mlp = GridSearchCV(mlp, param_grid_mlp, cv=5, scoring='accuracy')\n",
    "grid_search_mlp.fit(X_train, y_train)\n",
    "\n",
    "# In kết quả\n",
    "print(\"Best parameters for MLP:\", grid_search_mlp.best_params_)\n",
    "\n",
    "# Đánh giá mô hình trên tập kiểm thử\n",
    "y_pred_mlp = grid_search_mlp.predict(X_test)\n",
    "accuracy_mlp = accuracy_score(y_test, y_pred_mlp)\n",
    "print(\"Accuracy on test set:\", accuracy_mlp)"
   ]
  },
  {
   "cell_type": "code",
   "execution_count": 83,
   "metadata": {},
   "outputs": [
    {
     "name": "stderr",
     "output_type": "stream",
     "text": [
      "Stochastic Optimizer: Maximum iterations (200) reached and the optimization hasn't converged yet.\n"
     ]
    }
   ],
   "source": [
    "#Train \n",
    "mlp = MLPClassifier(hidden_layer_sizes=(50, 50, 50), alpha=0.1)\n",
    "# mlp = MLPClassifier()\n",
    "mlp.fit(X_train, y_train)\n",
    "y_pred_mlp = mlp.predict(X_test)"
   ]
  },
  {
   "cell_type": "code",
   "execution_count": 84,
   "metadata": {},
   "outputs": [
    {
     "name": "stdout",
     "output_type": "stream",
     "text": [
      "confusion_matrix: \n",
      " [[ 74  27]\n",
      " [ 17 146]]\n",
      "accuracy_score:  0.8333333333333334\n",
      "f1_score:  0.8690476190476191\n",
      "recall_score:  0.8957055214723927\n",
      "precision_score:  0.8439306358381503\n"
     ]
    }
   ],
   "source": [
    "#Kết quả\n",
    "from sklearn import metrics\n",
    "print(\"confusion_matrix: \\n\", metrics.confusion_matrix(y_test, y_pred_mlp))\n",
    "print(\"accuracy_score: \", metrics.accuracy_score(y_test, y_pred_mlp))\n",
    "print(\"f1_score: \", metrics.f1_score(y_test, y_pred_mlp))\n",
    "print(\"recall_score: \", metrics.recall_score(y_test, y_pred_mlp))\n",
    "print(\"precision_score: \", metrics.precision_score(y_test, y_pred_mlp))\n"
   ]
  },
  {
   "cell_type": "markdown",
   "metadata": {},
   "source": [
    "- Dùng shap để chọn features importance"
   ]
  },
  {
   "cell_type": "code",
   "execution_count": 85,
   "metadata": {},
   "outputs": [
    {
     "name": "stderr",
     "output_type": "stream",
     "text": [
      "ExactExplainer explainer: 1295it [01:08, 16.24it/s]                          \n"
     ]
    },
    {
     "data": {
      "image/png": "[encoded data removed]",
      "text/plain": [
       "<Figure size 800x470 with 1 Axes>"
      ]
     },
     "metadata": {},
     "output_type": "display_data"
    }
   ],
   "source": [
    "# Define a function for predictions\n",
    "def predict_fn(x):\n",
    "    return mlp.predict_proba(x)[:, 1]  # Assuming it's a binary classification task\n",
    "\n",
    "# Use the KernelExplainer for MLPClassifier\n",
    "explainer = shap.Explainer(predict_fn, X_train)\n",
    "shap_values = explainer(X_train)\n",
    "\n",
    "# Plot the summary plot\n",
    "shap.summary_plot(shap_values.values, X_train, plot_type=\"bar\", feature_names=feature_names)"
   ]
  },
  {
   "cell_type": "markdown",
   "metadata": {},
   "source": [
    "- Kết luận: Các feature đều quan trọng nên ta không loại bỏ feature nào"
   ]
  },
  {
   "cell_type": "markdown",
   "metadata": {},
   "source": [
    "## Logistic_regression"
   ]
  },
  {
   "cell_type": "code",
   "execution_count": 86,
   "metadata": {},
   "outputs": [],
   "source": [
    "# Khai báo thư viện\n",
    "from sklearn.linear_model import LogisticRegression"
   ]
  },
  {
   "cell_type": "code",
   "execution_count": 87,
   "metadata": {},
   "outputs": [],
   "source": [
    "# Train\n",
    "lgr = LogisticRegression(C=100, ).fit(X_train, y_train)\n",
    "y_pred_lgr = lgr.predict(X_test)"
   ]
  },
  {
   "cell_type": "code",
   "execution_count": 88,
   "metadata": {},
   "outputs": [
    {
     "name": "stdout",
     "output_type": "stream",
     "text": [
      "confusion_matrix: \n",
      " [[ 94   7]\n",
      " [ 22 141]]\n",
      "accuracy_score:  0.8901515151515151\n",
      "f1_score:  0.9067524115755626\n",
      "recall_score:  0.8650306748466258\n",
      "precision_score:  0.9527027027027027\n"
     ]
    }
   ],
   "source": [
    "# Kết quả\n",
    "print(\"confusion_matrix: \\n\", metrics.confusion_matrix(y_test, y_pred_lgr))\n",
    "print(\"accuracy_score: \", metrics.accuracy_score(y_test, y_pred_lgr))\n",
    "print(\"f1_score: \", metrics.f1_score(y_test, y_pred_lgr))\n",
    "print(\"recall_score: \", metrics.recall_score(y_test, y_pred_lgr))\n",
    "print(\"precision_score: \", metrics.precision_score(y_test, y_pred_lgr))"
   ]
  },
  {
   "cell_type": "markdown",
   "metadata": {},
   "source": [
    "- Dùng Shap để chọn feature importance "
   ]
  },
  {
   "cell_type": "code",
   "execution_count": 89,
   "metadata": {},
   "outputs": [
    {
     "data": {
      "image/png": "[encoded data removed]",
      "text/plain": [
       "<Figure size 800x470 with 1 Axes>"
      ]
     },
     "metadata": {},
     "output_type": "display_data"
    }
   ],
   "source": [
    "# Define a function for predictions\n",
    "def predict_fn(x):\n",
    "    return lgr.predict_proba(x)[:, 1]  # Assuming it's a binary classification task\n",
    "\n",
    "# Use the KernelExplainer for Logistic Regression\n",
    "explainer = shap.Explainer(predict_fn, X_train)\n",
    "shap_values = explainer(X_train)\n",
    "\n",
    "# Plot the summary plot\n",
    "shap.summary_plot(shap_values.values, X_train, plot_type=\"bar\", feature_names=feature_names)"
   ]
  },
  {
   "cell_type": "markdown",
   "metadata": {},
   "source": [
    "- Chọn các feature importance để train lại"
   ]
  },
  {
   "cell_type": "code",
   "execution_count": 90,
   "metadata": {},
   "outputs": [],
   "source": [
    "# Loại bỏ feature không quan trọng\n",
    "X_lgr = df.drop(columns= ['class', 'pressurehight', 'impluse', 'pressurelow']).values"
   ]
  },
  {
   "cell_type": "code",
   "execution_count": 91,
   "metadata": {},
   "outputs": [],
   "source": [
    "# Chia dữ liệu để train, test\n",
    "X_lgr_train, X_lgr_test, y_lgr_train, y_lgr_test = train_test_split(X_lgr, y, test_size=0.2, random_state=42)"
   ]
  },
  {
   "cell_type": "markdown",
   "metadata": {},
   "source": [
    "- Sử dụng Hyperparameter tuning để chọn ra tham số và model tốt nhất"
   ]
  },
  {
   "cell_type": "code",
   "execution_count": 92,
   "metadata": {},
   "outputs": [
    {
     "name": "stdout",
     "output_type": "stream",
     "text": [
      "Best parameters for Logistic Regression: {'C': 100}\n",
      "Accuracy on test set: 0.8901515151515151\n"
     ]
    }
   ],
   "source": [
    "# Thiết lập lưới tìm kiếm\n",
    "param_grid_lr = {'C': [0.001, 0.01, 0.1, 1, 10, 100]}\n",
    "\n",
    "# Tạo mô hình Logistic Regression\n",
    "logistic_regression = LogisticRegression()\n",
    "\n",
    "# Tìm kiếm trên lưới\n",
    "grid_search_lr = GridSearchCV(logistic_regression, param_grid_lr, cv=5, scoring='accuracy')\n",
    "grid_search_lr.fit(X_train, y_train)\n",
    "\n",
    "# In kết quả\n",
    "print(\"Best parameters for Logistic Regression:\", grid_search_lr.best_params_)\n",
    "\n",
    "# Đánh giá mô hình trên tập kiểm thử\n",
    "y_pred_lr = grid_search_lr.predict(X_test)\n",
    "accuracy_lr = accuracy_score(y_test, y_pred_lr)\n",
    "print(\"Accuracy on test set:\", accuracy_lr)"
   ]
  },
  {
   "cell_type": "code",
   "execution_count": 93,
   "metadata": {},
   "outputs": [],
   "source": [
    "lgr_shap = LogisticRegression(C=100, ).fit(X_lgr_train, y_lgr_train)\n",
    "y_pred_lgr_shap = lgr_shap.predict(X_lgr_test)"
   ]
  },
  {
   "cell_type": "code",
   "execution_count": 94,
   "metadata": {},
   "outputs": [
    {
     "name": "stdout",
     "output_type": "stream",
     "text": [
      "confusion_matrix: \n",
      " [[ 85  16]\n",
      " [ 15 148]]\n",
      "accuracy_score:  0.8825757575757576\n",
      "f1_score:  0.9051987767584098\n",
      "recall_score:  0.9079754601226994\n",
      "precision_score:  0.9024390243902439\n"
     ]
    }
   ],
   "source": [
    "# Kết quả\n",
    "print(\"confusion_matrix: \\n\", metrics.confusion_matrix(y_lgr_test, y_pred_lgr_shap))\n",
    "print(\"accuracy_score: \", metrics.accuracy_score(y_lgr_test, y_pred_lgr_shap))\n",
    "print(\"f1_score: \", metrics.f1_score(y_lgr_test, y_pred_lgr_shap))\n",
    "print(\"recall_score: \", metrics.recall_score(y_lgr_test, y_pred_lgr_shap))\n",
    "print(\"precision_score: \", metrics.precision_score(y_lgr_test, y_pred_lgr_shap))"
   ]
  },
  {
   "cell_type": "markdown",
   "metadata": {},
   "source": [
    "## Decision Tree"
   ]
  },
  {
   "cell_type": "code",
   "execution_count": 95,
   "metadata": {},
   "outputs": [],
   "source": [
    "# Khai báo thư viện\n",
    "from sklearn.tree import DecisionTreeClassifier"
   ]
  },
  {
   "cell_type": "code",
   "execution_count": 96,
   "metadata": {},
   "outputs": [],
   "source": [
    "# Train\n",
    "dt = DecisionTreeClassifier().fit(X_train, y_train)\n",
    "y_pred_dt = dt.predict(X_test)"
   ]
  },
  {
   "cell_type": "code",
   "execution_count": 97,
   "metadata": {},
   "outputs": [
    {
     "name": "stdout",
     "output_type": "stream",
     "text": [
      "confusion_matrix: \n",
      " [[ 98   3]\n",
      " [  3 160]]\n",
      "accuracy_score:  0.9772727272727273\n",
      "f1_score:  0.98159509202454\n",
      "recall_score:  0.9815950920245399\n",
      "precision_score:  0.9815950920245399\n"
     ]
    }
   ],
   "source": [
    "# Kết quả\n",
    "print(\"confusion_matrix: \\n\", metrics.confusion_matrix(y_test, y_pred_dt))\n",
    "print(\"accuracy_score: \", metrics.accuracy_score(y_test, y_pred_dt))\n",
    "print(\"f1_score: \", metrics.f1_score(y_test, y_pred_dt))\n",
    "print(\"recall_score: \", metrics.recall_score(y_test, y_pred_dt))\n",
    "print(\"precision_score: \", metrics.precision_score(y_test, y_pred_dt))\n"
   ]
  },
  {
   "cell_type": "markdown",
   "metadata": {},
   "source": [
    "- Dùng Shap để chọn feature importance "
   ]
  },
  {
   "cell_type": "code",
   "execution_count": 98,
   "metadata": {},
   "outputs": [
    {
     "data": {
      "image/png": "[encoded data removed]",
      "text/plain": [
       "<Figure size 800x470 with 1 Axes>"
      ]
     },
     "metadata": {},
     "output_type": "display_data"
    }
   ],
   "source": [
    "# Use the KernelExplainer for SVM\n",
    "explainer = shap.Explainer(dt)\n",
    "shap_values = explainer.shap_values(X_train)\n",
    "\n",
    "# Plot the summary plot\n",
    "shap.summary_plot(shap_values, X_train, plot_type=\"bar\", feature_names=feature_names)"
   ]
  },
  {
   "cell_type": "code",
   "execution_count": 99,
   "metadata": {},
   "outputs": [],
   "source": [
    "# Loại bỏ những feature không quan trọng\n",
    "X_dt = df.drop(columns= ['class', 'impluse', 'age', 'pressurelow']).values"
   ]
  },
  {
   "cell_type": "code",
   "execution_count": 100,
   "metadata": {},
   "outputs": [],
   "source": [
    "# Chia dữ liệu để train, test\n",
    "X_dt_train, X_dt_test, y_dt_train, y_dt_test = train_test_split(X_dt, y, test_size=0.2, random_state=42)"
   ]
  },
  {
   "cell_type": "markdown",
   "metadata": {},
   "source": [
    "- Sử dụng Hyperparameter tuning để chọn ra tham số và model tốt nhất"
   ]
  },
  {
   "cell_type": "code",
   "execution_count": 101,
   "metadata": {},
   "outputs": [
    {
     "name": "stdout",
     "output_type": "stream",
     "text": [
      "Best parameters for Decision Tree: {'ccp_alpha': 0.001, 'criterion': 'entropy', 'max_depth': 4, 'min_samples_leaf': 2, 'min_samples_split': 10}\n",
      "Accuracy on test set: 0.9772727272727273\n"
     ]
    }
   ],
   "source": [
    "# Thiết lập lưới tìm kiếm\n",
    "param_grid_dt = {'max_depth': [3, 4, 5, 6, 7, None],\n",
    "                 'min_samples_split': [2, 5, 10],\n",
    "                 'min_samples_leaf': [1, 2, 4],\n",
    "                 'ccp_alpha': [0.001, 0.01, 0.1, 1.0],\n",
    "                 'criterion': ['entropy', 'gini']}\n",
    "\n",
    "# Tạo mô hình Decision Tree\n",
    "dt = DecisionTreeClassifier()\n",
    "\n",
    "# Tìm kiếm trên lưới\n",
    "grid_search_dt = GridSearchCV(dt, param_grid_dt, cv=5, scoring='accuracy')\n",
    "grid_search_dt.fit(X_train, y_train)\n",
    "\n",
    "# In kết quả\n",
    "print(\"Best parameters for Decision Tree:\", grid_search_dt.best_params_)\n",
    "\n",
    "# Đánh giá mô hình trên tập kiểm thử\n",
    "y_pred_dt = grid_search_dt.predict(X_test)\n",
    "accuracy_dt = accuracy_score(y_test, y_pred_dt)\n",
    "print(\"Accuracy on test set:\", accuracy_dt)"
   ]
  },
  {
   "cell_type": "code",
   "execution_count": 102,
   "metadata": {},
   "outputs": [],
   "source": [
    "# Train\n",
    "dt_shap = DecisionTreeClassifier(ccp_alpha=0.001, max_depth = 6, min_samples_leaf=1, min_samples_split=2, criterion='entropy').fit(X_dt_train, y_dt_train)\n",
    "y_pred_dt_shap = dt_shap.predict(X_dt_test)"
   ]
  },
  {
   "cell_type": "code",
   "execution_count": 103,
   "metadata": {},
   "outputs": [
    {
     "name": "stdout",
     "output_type": "stream",
     "text": [
      "confusion_matrix: \n",
      " [[ 98   3]\n",
      " [  2 161]]\n",
      "accuracy_score:  0.9810606060606061\n",
      "f1_score:  0.9847094801223242\n",
      "recall_score:  0.9877300613496932\n",
      "precision_score:  0.9817073170731707\n"
     ]
    }
   ],
   "source": [
    "# Kết quả\n",
    "print(\"confusion_matrix: \\n\", metrics.confusion_matrix(y_dt_test, y_pred_dt_shap))\n",
    "print(\"accuracy_score: \", metrics.accuracy_score(y_dt_test, y_pred_dt_shap))\n",
    "print(\"f1_score: \", metrics.f1_score(y_dt_test, y_pred_dt_shap))\n",
    "print(\"recall_score: \", metrics.recall_score(y_dt_test, y_pred_dt_shap))\n",
    "print(\"precision_score: \", metrics.precision_score(y_dt_test, y_pred_dt_shap))\n"
   ]
  },
  {
   "cell_type": "markdown",
   "metadata": {},
   "source": [
    "## Kết luận\n",
    "- Best method: Decision Tree\n",
    "- accuracy_score:  0.9810606060606061\n",
    "- f1_score:  0.9847094801223242\n",
    "- recall_score:  0.9877300613496932\n",
    "- precision_score:  0.9817073170731707"
   ]
  }
 ],
 "metadata": {
  "kernelspec": {
   "display_name": "Python 3",
   "language": "python",
   "name": "python3"
  },
  "language_info": {
   "codemirror_mode": {
    "name": "ipython",
    "version": 3
   },
   "file_extension": ".py",
   "mimetype": "text/x-python",
   "name": "python",
   "nbconvert_exporter": "python",
   "pygments_lexer": "ipython3",
   "version": "3.11.5"
  }
 },
 "nbformat": 4,
 "nbformat_minor": 2
}
